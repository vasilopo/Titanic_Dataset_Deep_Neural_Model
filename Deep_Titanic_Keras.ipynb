{
 "cells": [
  {
   "cell_type": "markdown",
   "metadata": {},
   "source": [
    "<h1>A Neural Model Approach On Titanic Dataset</h1>"
   ]
  },
  {
   "cell_type": "markdown",
   "metadata": {},
   "source": [
    "<h3>Dependencies</h3>"
   ]
  },
  {
   "cell_type": "code",
   "execution_count": 1,
   "metadata": {},
   "outputs": [
    {
     "data": {
      "text/plain": [
       "['',\n",
       " '/Library/Frameworks/Python.framework/Versions/3.6/lib/python36.zip',\n",
       " '/Library/Frameworks/Python.framework/Versions/3.6/lib/python3.6',\n",
       " '/Library/Frameworks/Python.framework/Versions/3.6/lib/python3.6/lib-dynload',\n",
       " '/Library/Frameworks/Python.framework/Versions/3.6/lib/python3.6/site-packages',\n",
       " '/Library/Frameworks/Python.framework/Versions/3.6/lib/python3.6/site-packages/IPython/extensions',\n",
       " '/Users/xristaggelosvasilopoulos/.ipython']"
      ]
     },
     "execution_count": 1,
     "metadata": {},
     "output_type": "execute_result"
    }
   ],
   "source": [
    "import numpy as np\n",
    "import matplotlib.pyplot as plt\n",
    "from sklearn.preprocessing import MinMaxScaler\n",
    "import pandas as pd\n",
    "import sys\n",
    "sys.path"
   ]
  },
  {
   "cell_type": "markdown",
   "metadata": {},
   "source": [
    "<h3>Load The Dataset</h3>"
   ]
  },
  {
   "cell_type": "code",
   "execution_count": 2,
   "metadata": {},
   "outputs": [],
   "source": [
    "df = pd.read_csv('dataset/train.csv')\n",
    "test = pd.read_csv('dataset/test.csv')"
   ]
  },
  {
   "cell_type": "markdown",
   "metadata": {},
   "source": [
    "<h3>Total Training Data Instances</h3>"
   ]
  },
  {
   "cell_type": "code",
   "execution_count": 3,
   "metadata": {},
   "outputs": [],
   "source": [
    "df.drop(['Name','PassengerId'],1, inplace=True)\n",
    "test.drop(['Name','PassengerId'],1, inplace=True)"
   ]
  },
  {
   "cell_type": "markdown",
   "metadata": {},
   "source": [
    "<h1>Convert the categorical Values Into Numerical</h1>"
   ]
  },
  {
   "cell_type": "markdown",
   "metadata": {},
   "source": [
    "<h3>Sex to Numerical Values</h3>"
   ]
  },
  {
   "cell_type": "code",
   "execution_count": 4,
   "metadata": {},
   "outputs": [],
   "source": [
    "df['Sex'].replace(to_replace='male',value=0,inplace=True)\n",
    "df['Sex'].replace(to_replace='female',value=1,inplace=True)\n",
    "\n",
    "test['Sex'].replace(to_replace='male',value=0,inplace=True)\n",
    "test['Sex'].replace(to_replace='female',value=1,inplace=True)"
   ]
  },
  {
   "cell_type": "markdown",
   "metadata": {},
   "source": [
    "<h3>Port of Embarcation to Numeric Value</h3>"
   ]
  },
  {
   "cell_type": "code",
   "execution_count": 5,
   "metadata": {},
   "outputs": [],
   "source": [
    "port_of_embarcation = list(set(df['Embarked']))+list(set(test['Embarked']))\n",
    "Cabins = list(set(df['Cabin']))+list(set(test['Cabin']))\n",
    "Ticket = list(set(df['Ticket']))+list(set(test['Ticket']))"
   ]
  },
  {
   "cell_type": "code",
   "execution_count": 6,
   "metadata": {},
   "outputs": [],
   "source": [
    "for i in range(0,len(port_of_embarcation)):\n",
    "    \n",
    "    df['Embarked'].replace(to_replace=port_of_embarcation[i],value=i+1,inplace=True)\n",
    "    test['Embarked'].replace(to_replace=port_of_embarcation[i],value=i+1,inplace=True)\n",
    "    \n",
    "for i in range(0,len(Cabins)):\n",
    "    \n",
    "    df['Cabin'].replace(to_replace=Cabins[i],value=i+1,inplace=True)\n",
    "    test['Cabin'].replace(to_replace=Cabins[i],value=i+1,inplace=True)\n",
    "    \n",
    "for i in range(0,len(Ticket)):\n",
    "    \n",
    "    df['Ticket'].replace(to_replace=Ticket[i],value=i+1,inplace=True)\n",
    "    test['Ticket'].replace(to_replace=Ticket[i],value=i+1,inplace=True)\n",
    "\n",
    "df.fillna(value=0,inplace=True)\n",
    "test.fillna(value=0,inplace=True)"
   ]
  },
  {
   "cell_type": "markdown",
   "metadata": {},
   "source": [
    "<h1>Normalize the Data</h1>"
   ]
  },
  {
   "cell_type": "code",
   "execution_count": 7,
   "metadata": {},
   "outputs": [
    {
     "data": {
      "text/html": [
       "<div>\n",
       "<style scoped>\n",
       "    .dataframe tbody tr th:only-of-type {\n",
       "        vertical-align: middle;\n",
       "    }\n",
       "\n",
       "    .dataframe tbody tr th {\n",
       "        vertical-align: top;\n",
       "    }\n",
       "\n",
       "    .dataframe thead th {\n",
       "        text-align: right;\n",
       "    }\n",
       "</style>\n",
       "<table border=\"1\" class=\"dataframe\">\n",
       "  <thead>\n",
       "    <tr style=\"text-align: right;\">\n",
       "      <th></th>\n",
       "      <th>Survived</th>\n",
       "      <th>Pclass</th>\n",
       "      <th>Sex</th>\n",
       "      <th>Age</th>\n",
       "      <th>SibSp</th>\n",
       "      <th>Parch</th>\n",
       "      <th>Ticket</th>\n",
       "      <th>Fare</th>\n",
       "      <th>Cabin</th>\n",
       "      <th>Embarked</th>\n",
       "    </tr>\n",
       "  </thead>\n",
       "  <tbody>\n",
       "    <tr>\n",
       "      <th>0</th>\n",
       "      <td>0</td>\n",
       "      <td>3</td>\n",
       "      <td>0</td>\n",
       "      <td>22.0</td>\n",
       "      <td>1</td>\n",
       "      <td>0</td>\n",
       "      <td>162</td>\n",
       "      <td>7.2500</td>\n",
       "      <td>1</td>\n",
       "      <td>3.0</td>\n",
       "    </tr>\n",
       "    <tr>\n",
       "      <th>1</th>\n",
       "      <td>1</td>\n",
       "      <td>1</td>\n",
       "      <td>1</td>\n",
       "      <td>38.0</td>\n",
       "      <td>1</td>\n",
       "      <td>0</td>\n",
       "      <td>677</td>\n",
       "      <td>71.2833</td>\n",
       "      <td>112</td>\n",
       "      <td>2.0</td>\n",
       "    </tr>\n",
       "    <tr>\n",
       "      <th>2</th>\n",
       "      <td>1</td>\n",
       "      <td>3</td>\n",
       "      <td>1</td>\n",
       "      <td>26.0</td>\n",
       "      <td>0</td>\n",
       "      <td>0</td>\n",
       "      <td>70</td>\n",
       "      <td>7.9250</td>\n",
       "      <td>1</td>\n",
       "      <td>3.0</td>\n",
       "    </tr>\n",
       "    <tr>\n",
       "      <th>3</th>\n",
       "      <td>1</td>\n",
       "      <td>1</td>\n",
       "      <td>1</td>\n",
       "      <td>35.0</td>\n",
       "      <td>1</td>\n",
       "      <td>0</td>\n",
       "      <td>99</td>\n",
       "      <td>53.1000</td>\n",
       "      <td>52</td>\n",
       "      <td>3.0</td>\n",
       "    </tr>\n",
       "    <tr>\n",
       "      <th>4</th>\n",
       "      <td>0</td>\n",
       "      <td>3</td>\n",
       "      <td>0</td>\n",
       "      <td>35.0</td>\n",
       "      <td>0</td>\n",
       "      <td>0</td>\n",
       "      <td>583</td>\n",
       "      <td>8.0500</td>\n",
       "      <td>1</td>\n",
       "      <td>3.0</td>\n",
       "    </tr>\n",
       "  </tbody>\n",
       "</table>\n",
       "</div>"
      ],
      "text/plain": [
       "   Survived  Pclass  Sex   Age  SibSp  Parch  Ticket     Fare  Cabin  Embarked\n",
       "0         0       3    0  22.0      1      0     162   7.2500      1       3.0\n",
       "1         1       1    1  38.0      1      0     677  71.2833    112       2.0\n",
       "2         1       3    1  26.0      0      0      70   7.9250      1       3.0\n",
       "3         1       1    1  35.0      1      0      99  53.1000     52       3.0\n",
       "4         0       3    0  35.0      0      0     583   8.0500      1       3.0"
      ]
     },
     "execution_count": 7,
     "metadata": {},
     "output_type": "execute_result"
    }
   ],
   "source": [
    "df.head()"
   ]
  },
  {
   "cell_type": "code",
   "execution_count": 8,
   "metadata": {},
   "outputs": [
    {
     "data": {
      "text/html": [
       "<div>\n",
       "<style scoped>\n",
       "    .dataframe tbody tr th:only-of-type {\n",
       "        vertical-align: middle;\n",
       "    }\n",
       "\n",
       "    .dataframe tbody tr th {\n",
       "        vertical-align: top;\n",
       "    }\n",
       "\n",
       "    .dataframe thead th {\n",
       "        text-align: right;\n",
       "    }\n",
       "</style>\n",
       "<table border=\"1\" class=\"dataframe\">\n",
       "  <thead>\n",
       "    <tr style=\"text-align: right;\">\n",
       "      <th></th>\n",
       "      <th>Pclass</th>\n",
       "      <th>Sex</th>\n",
       "      <th>Age</th>\n",
       "      <th>SibSp</th>\n",
       "      <th>Parch</th>\n",
       "      <th>Ticket</th>\n",
       "      <th>Fare</th>\n",
       "      <th>Cabin</th>\n",
       "      <th>Embarked</th>\n",
       "    </tr>\n",
       "  </thead>\n",
       "  <tbody>\n",
       "    <tr>\n",
       "      <th>0</th>\n",
       "      <td>3</td>\n",
       "      <td>0</td>\n",
       "      <td>34.5</td>\n",
       "      <td>0</td>\n",
       "      <td>0</td>\n",
       "      <td>1037</td>\n",
       "      <td>7.8292</td>\n",
       "      <td>1</td>\n",
       "      <td>1</td>\n",
       "    </tr>\n",
       "    <tr>\n",
       "      <th>1</th>\n",
       "      <td>3</td>\n",
       "      <td>1</td>\n",
       "      <td>47.0</td>\n",
       "      <td>1</td>\n",
       "      <td>0</td>\n",
       "      <td>738</td>\n",
       "      <td>7.0000</td>\n",
       "      <td>1</td>\n",
       "      <td>3</td>\n",
       "    </tr>\n",
       "    <tr>\n",
       "      <th>2</th>\n",
       "      <td>2</td>\n",
       "      <td>0</td>\n",
       "      <td>62.0</td>\n",
       "      <td>0</td>\n",
       "      <td>0</td>\n",
       "      <td>963</td>\n",
       "      <td>9.6875</td>\n",
       "      <td>1</td>\n",
       "      <td>1</td>\n",
       "    </tr>\n",
       "    <tr>\n",
       "      <th>3</th>\n",
       "      <td>3</td>\n",
       "      <td>0</td>\n",
       "      <td>27.0</td>\n",
       "      <td>0</td>\n",
       "      <td>0</td>\n",
       "      <td>932</td>\n",
       "      <td>8.6625</td>\n",
       "      <td>1</td>\n",
       "      <td>3</td>\n",
       "    </tr>\n",
       "    <tr>\n",
       "      <th>4</th>\n",
       "      <td>3</td>\n",
       "      <td>1</td>\n",
       "      <td>22.0</td>\n",
       "      <td>1</td>\n",
       "      <td>1</td>\n",
       "      <td>353</td>\n",
       "      <td>12.2875</td>\n",
       "      <td>1</td>\n",
       "      <td>3</td>\n",
       "    </tr>\n",
       "  </tbody>\n",
       "</table>\n",
       "</div>"
      ],
      "text/plain": [
       "   Pclass  Sex   Age  SibSp  Parch  Ticket     Fare  Cabin  Embarked\n",
       "0       3    0  34.5      0      0    1037   7.8292      1         1\n",
       "1       3    1  47.0      1      0     738   7.0000      1         3\n",
       "2       2    0  62.0      0      0     963   9.6875      1         1\n",
       "3       3    0  27.0      0      0     932   8.6625      1         3\n",
       "4       3    1  22.0      1      1     353  12.2875      1         3"
      ]
     },
     "execution_count": 8,
     "metadata": {},
     "output_type": "execute_result"
    }
   ],
   "source": [
    "test.head()"
   ]
  },
  {
   "cell_type": "markdown",
   "metadata": {},
   "source": [
    "<h3>Scaler Initialization</h3>"
   ]
  },
  {
   "cell_type": "code",
   "execution_count": 9,
   "metadata": {},
   "outputs": [],
   "source": [
    "sc = MinMaxScaler()"
   ]
  },
  {
   "cell_type": "markdown",
   "metadata": {},
   "source": [
    "<h3>Split the dataset in train and validation</h3>"
   ]
  },
  {
   "cell_type": "code",
   "execution_count": 10,
   "metadata": {},
   "outputs": [],
   "source": [
    "train = df.head(n=800)\n",
    "val = df.tail(n=91)"
   ]
  },
  {
   "cell_type": "code",
   "execution_count": 11,
   "metadata": {},
   "outputs": [],
   "source": [
    "train_data = np.array(train)\n",
    "train_data = sc.fit_transform(train_data)\n",
    "\n",
    "val = np.array(val)\n",
    "val = sc.fit_transform(val)\n",
    "\n",
    "test = np.array(test)\n",
    "test = sc.fit_transform(test)"
   ]
  },
  {
   "cell_type": "markdown",
   "metadata": {},
   "source": [
    "<h3>Split the data and labels</h3>"
   ]
  },
  {
   "cell_type": "code",
   "execution_count": 12,
   "metadata": {},
   "outputs": [],
   "source": [
    "x_train = train_data[:,1:]\n",
    "y_train = train_data[:,0]\n",
    "\n",
    "x_val = val[:,1:]\n",
    "y_val = val[:,0]"
   ]
  },
  {
   "cell_type": "markdown",
   "metadata": {},
   "source": [
    "<h1>Neural Network Model</h1>"
   ]
  },
  {
   "cell_type": "markdown",
   "metadata": {},
   "source": [
    "<h3>Dependencies</h3>"
   ]
  },
  {
   "cell_type": "code",
   "execution_count": 13,
   "metadata": {},
   "outputs": [
    {
     "name": "stderr",
     "output_type": "stream",
     "text": [
      "/Library/Frameworks/Python.framework/Versions/3.6/lib/python3.6/site-packages/h5py/__init__.py:36: FutureWarning: Conversion of the second argument of issubdtype from `float` to `np.floating` is deprecated. In future, it will be treated as `np.float64 == np.dtype(float).type`.\n",
      "  from ._conv import register_converters as _register_converters\n",
      "Using TensorFlow backend.\n"
     ]
    }
   ],
   "source": [
    "import keras\n",
    "from keras.models import Sequential\n",
    "from keras.layers import Dense, Dropout\n",
    "from keras.callbacks import ModelCheckpoint\n",
    "from keras.callbacks import ReduceLROnPlateau"
   ]
  },
  {
   "cell_type": "markdown",
   "metadata": {},
   "source": [
    "<h3>Neural Network Structure</h3>"
   ]
  },
  {
   "cell_type": "markdown",
   "metadata": {},
   "source": [
    "<h3>Deep Neural Network Initialization</h3>"
   ]
  },
  {
   "cell_type": "code",
   "execution_count": 14,
   "metadata": {},
   "outputs": [],
   "source": [
    "classifier = Sequential()"
   ]
  },
  {
   "cell_type": "markdown",
   "metadata": {},
   "source": [
    "<h3>Input Layer of the Deep Neural Netowrk</h3>"
   ]
  },
  {
   "cell_type": "code",
   "execution_count": 15,
   "metadata": {},
   "outputs": [],
   "source": [
    "classifier.add(Dense(units = 80, kernel_initializer = 'uniform', activation = 'relu', input_dim = 9,bias_initializer='zeros'))\n",
    "classifier.add(Dropout(0.5))"
   ]
  },
  {
   "cell_type": "markdown",
   "metadata": {},
   "source": [
    "<h3>Hidden Layers of the Deep Neural Network with Dropout</h3>"
   ]
  },
  {
   "cell_type": "code",
   "execution_count": 16,
   "metadata": {},
   "outputs": [],
   "source": [
    "classifier.add(Dense(units = 80, kernel_initializer = 'uniform', activation = 'relu',bias_initializer='zeros'))\n",
    "classifier.add(Dropout(0.8))\n",
    "classifier.add(Dense(units = 80, kernel_initializer = 'uniform', activation = 'relu',bias_initializer='zeros'))\n",
    "classifier.add(Dropout(0.8))\n",
    "classifier.add(Dense(units = 80, kernel_initializer = 'uniform', activation = 'relu',bias_initializer='zeros'))\n",
    "classifier.add(Dropout(0.8))"
   ]
  },
  {
   "cell_type": "markdown",
   "metadata": {},
   "source": [
    "<h3>Output Layer of the Deep Neural Network</h3>"
   ]
  },
  {
   "cell_type": "code",
   "execution_count": 17,
   "metadata": {},
   "outputs": [],
   "source": [
    "classifier.add(Dense(units = 1, kernel_initializer = 'uniform', activation = 'sigmoid',bias_initializer='zeros'))"
   ]
  },
  {
   "cell_type": "markdown",
   "metadata": {},
   "source": [
    "<h3>Optimizers</h3>"
   ]
  },
  {
   "cell_type": "code",
   "execution_count": 18,
   "metadata": {},
   "outputs": [],
   "source": [
    "#adam = keras.optimizers.Adam(lr=0.001, beta_1=0.9, beta_2=0.999, epsilon=None, decay=0.0, amsgrad=False)\n",
    "nadam = keras.optimizers.Nadam(lr=0.002, beta_1=0.9, beta_2=0.999, epsilon=None, schedule_decay=0.002)"
   ]
  },
  {
   "cell_type": "markdown",
   "metadata": {},
   "source": [
    "<h3>Deep Neural Network Model Compile</h3>"
   ]
  },
  {
   "cell_type": "code",
   "execution_count": 19,
   "metadata": {},
   "outputs": [],
   "source": [
    "classifier.compile(optimizer = nadam, loss = 'binary_crossentropy', metrics = ['accuracy'])"
   ]
  },
  {
   "cell_type": "markdown",
   "metadata": {},
   "source": [
    "<h3>Model Checkpoint Callback in order to save the best model based on val_acc</h3>"
   ]
  },
  {
   "cell_type": "code",
   "execution_count": 20,
   "metadata": {},
   "outputs": [],
   "source": [
    "filepath = 'weights_best.hdf5'\n",
    "checkpoint = ModelCheckpoint(filepath=filepath, monitor='val_acc', verbose=1, save_best_only=True)"
   ]
  },
  {
   "cell_type": "markdown",
   "metadata": {},
   "source": [
    "<h3>Fitted the model to data and had a result of 84% on val_acc</h3>"
   ]
  },
  {
   "cell_type": "code",
   "execution_count": 21,
   "metadata": {},
   "outputs": [
    {
     "name": "stdout",
     "output_type": "stream",
     "text": [
      "\n",
      "Epoch 00001: val_acc improved from -inf to 0.62637, saving model to weights_best.hdf5\n",
      "\n",
      "Epoch 00002: val_acc did not improve\n",
      "\n",
      "Epoch 00003: val_acc did not improve\n",
      "\n",
      "Epoch 00004: val_acc improved from 0.62637 to 0.75824, saving model to weights_best.hdf5\n",
      "\n",
      "Epoch 00005: val_acc improved from 0.75824 to 0.78022, saving model to weights_best.hdf5\n",
      "\n",
      "Epoch 00006: val_acc did not improve\n",
      "\n",
      "Epoch 00007: val_acc did not improve\n",
      "\n",
      "Epoch 00008: val_acc improved from 0.78022 to 0.79121, saving model to weights_best.hdf5\n",
      "\n",
      "Epoch 00009: val_acc did not improve\n",
      "\n",
      "Epoch 00010: val_acc improved from 0.79121 to 0.82418, saving model to weights_best.hdf5\n",
      "\n",
      "Epoch 00011: val_acc did not improve\n",
      "\n",
      "Epoch 00012: val_acc improved from 0.82418 to 0.84615, saving model to weights_best.hdf5\n",
      "\n",
      "Epoch 00013: val_acc did not improve\n",
      "\n",
      "Epoch 00014: val_acc did not improve\n",
      "\n",
      "Epoch 00015: val_acc did not improve\n",
      "\n",
      "Epoch 00016: val_acc did not improve\n",
      "\n",
      "Epoch 00017: val_acc did not improve\n",
      "\n",
      "Epoch 00018: val_acc did not improve\n",
      "\n",
      "Epoch 00019: val_acc did not improve\n",
      "\n",
      "Epoch 00020: val_acc did not improve\n",
      "\n",
      "Epoch 00021: val_acc did not improve\n",
      "\n",
      "Epoch 00022: val_acc did not improve\n",
      "\n",
      "Epoch 00023: val_acc did not improve\n",
      "\n",
      "Epoch 00024: val_acc did not improve\n",
      "\n",
      "Epoch 00025: val_acc did not improve\n",
      "\n",
      "Epoch 00026: val_acc did not improve\n",
      "\n",
      "Epoch 00027: val_acc did not improve\n",
      "\n",
      "Epoch 00028: val_acc did not improve\n",
      "\n",
      "Epoch 00029: val_acc did not improve\n",
      "\n",
      "Epoch 00030: val_acc did not improve\n",
      "\n",
      "Epoch 00031: val_acc did not improve\n",
      "\n",
      "Epoch 00032: val_acc did not improve\n",
      "\n",
      "Epoch 00033: val_acc did not improve\n",
      "\n",
      "Epoch 00034: val_acc did not improve\n",
      "\n",
      "Epoch 00035: val_acc did not improve\n",
      "\n",
      "Epoch 00036: val_acc did not improve\n",
      "\n",
      "Epoch 00037: val_acc did not improve\n",
      "\n",
      "Epoch 00038: val_acc did not improve\n",
      "\n",
      "Epoch 00039: val_acc did not improve\n",
      "\n",
      "Epoch 00040: val_acc did not improve\n",
      "\n",
      "Epoch 00041: val_acc did not improve\n",
      "\n",
      "Epoch 00042: val_acc did not improve\n",
      "\n",
      "Epoch 00043: val_acc did not improve\n",
      "\n",
      "Epoch 00044: val_acc did not improve\n",
      "\n",
      "Epoch 00045: val_acc did not improve\n",
      "\n",
      "Epoch 00046: val_acc did not improve\n",
      "\n",
      "Epoch 00047: val_acc did not improve\n",
      "\n",
      "Epoch 00048: val_acc did not improve\n",
      "\n",
      "Epoch 00049: val_acc did not improve\n",
      "\n",
      "Epoch 00050: val_acc did not improve\n",
      "\n",
      "Epoch 00051: val_acc did not improve\n",
      "\n",
      "Epoch 00052: val_acc did not improve\n",
      "\n",
      "Epoch 00053: val_acc did not improve\n",
      "\n",
      "Epoch 00054: val_acc did not improve\n",
      "\n",
      "Epoch 00055: val_acc did not improve\n",
      "\n",
      "Epoch 00056: val_acc did not improve\n",
      "\n",
      "Epoch 00057: val_acc did not improve\n",
      "\n",
      "Epoch 00058: val_acc did not improve\n",
      "\n",
      "Epoch 00059: val_acc did not improve\n",
      "\n",
      "Epoch 00060: val_acc did not improve\n",
      "\n",
      "Epoch 00061: val_acc did not improve\n",
      "\n",
      "Epoch 00062: val_acc did not improve\n",
      "\n",
      "Epoch 00063: val_acc did not improve\n",
      "\n",
      "Epoch 00064: val_acc did not improve\n",
      "\n",
      "Epoch 00065: val_acc did not improve\n",
      "\n",
      "Epoch 00066: val_acc did not improve\n",
      "\n",
      "Epoch 00067: val_acc did not improve\n",
      "\n",
      "Epoch 00068: val_acc did not improve\n",
      "\n",
      "Epoch 00069: val_acc did not improve\n",
      "\n",
      "Epoch 00070: val_acc did not improve\n"
     ]
    },
    {
     "data": {
      "text/plain": [
       "<keras.callbacks.History at 0x1203def28>"
      ]
     },
     "execution_count": 21,
     "metadata": {},
     "output_type": "execute_result"
    }
   ],
   "source": [
    "classifier.fit(x_train,y_train, epochs = 70, validation_data=(x_val,y_val), callbacks=[checkpoint],verbose=0)"
   ]
  },
  {
   "cell_type": "markdown",
   "metadata": {},
   "source": [
    "<h3>Use the Model on the Kaggle data test set</h3>"
   ]
  },
  {
   "cell_type": "markdown",
   "metadata": {},
   "source": [
    "<h3>If we want to load the Neural Model</h3>"
   ]
  },
  {
   "cell_type": "code",
   "execution_count": 22,
   "metadata": {},
   "outputs": [],
   "source": [
    "from keras.models import load_model\n",
    "\n",
    "best_model = load_model('weights_best.hdf5')"
   ]
  },
  {
   "cell_type": "code",
   "execution_count": 23,
   "metadata": {},
   "outputs": [],
   "source": [
    "prediction = best_model.predict(test)"
   ]
  },
  {
   "cell_type": "markdown",
   "metadata": {},
   "source": [
    "<h3>Fill the predictions with 0 and 1</h3>"
   ]
  },
  {
   "cell_type": "code",
   "execution_count": 24,
   "metadata": {},
   "outputs": [],
   "source": [
    "for i in range(0,len(prediction)):\n",
    "    \n",
    "    if prediction[i] >= 0.5:\n",
    "        prediction[i] = 1\n",
    "        \n",
    "    else:\n",
    "        prediction[i] = 0"
   ]
  },
  {
   "cell_type": "markdown",
   "metadata": {},
   "source": [
    "<h3>Create the Final Format</h3>"
   ]
  },
  {
   "cell_type": "code",
   "execution_count": 25,
   "metadata": {},
   "outputs": [],
   "source": [
    "submit = np.array(prediction)\n",
    "submission = np.zeros((418,2),dtype=np.int64)"
   ]
  },
  {
   "cell_type": "markdown",
   "metadata": {},
   "source": [
    "<h3>Fill the array with the predicted values</h3>"
   ]
  },
  {
   "cell_type": "code",
   "execution_count": 26,
   "metadata": {},
   "outputs": [],
   "source": [
    "for i in range(0,418):\n",
    "    \n",
    "    submission[i][1] = submit[i]"
   ]
  },
  {
   "cell_type": "markdown",
   "metadata": {},
   "source": [
    "<h3>Fill the PassengerId values</h3>"
   ]
  },
  {
   "cell_type": "code",
   "execution_count": 27,
   "metadata": {},
   "outputs": [],
   "source": [
    "for i in range(0,418):\n",
    "    \n",
    "    submission[i][0] = 892+i"
   ]
  },
  {
   "cell_type": "markdown",
   "metadata": {},
   "source": [
    "<h3>Save the data in order to perform the submission to Kaggle</h3>"
   ]
  },
  {
   "cell_type": "code",
   "execution_count": 28,
   "metadata": {},
   "outputs": [],
   "source": [
    "np.savetxt(\"submission.csv\", submission, delimiter = ',', fmt = '%i', header='PassengerId,Survived', comments='')"
   ]
  }
 ],
 "metadata": {
  "kernelspec": {
   "display_name": "Python 3",
   "language": "python",
   "name": "python3"
  },
  "language_info": {
   "codemirror_mode": {
    "name": "ipython",
    "version": 3
   },
   "file_extension": ".py",
   "mimetype": "text/x-python",
   "name": "python",
   "nbconvert_exporter": "python",
   "pygments_lexer": "ipython3",
   "version": "3.6.4"
  },
  "varInspector": {
   "cols": {
    "lenName": 16,
    "lenType": 16,
    "lenVar": 40
   },
   "kernels_config": {
    "python": {
     "delete_cmd_postfix": "",
     "delete_cmd_prefix": "del ",
     "library": "var_list.py",
     "varRefreshCmd": "print(var_dic_list())"
    },
    "r": {
     "delete_cmd_postfix": ") ",
     "delete_cmd_prefix": "rm(",
     "library": "var_list.r",
     "varRefreshCmd": "cat(var_dic_list()) "
    }
   },
   "types_to_exclude": [
    "module",
    "function",
    "builtin_function_or_method",
    "instance",
    "_Feature"
   ],
   "window_display": false
  }
 },
 "nbformat": 4,
 "nbformat_minor": 2
}
